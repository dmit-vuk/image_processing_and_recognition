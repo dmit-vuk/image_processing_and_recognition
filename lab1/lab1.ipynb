{
 "cells": [
  {
   "cell_type": "code",
   "execution_count": 1,
   "metadata": {},
   "outputs": [],
   "source": [
    "import cv2 as cv2\n",
    "import numpy as np\n",
    "from matplotlib import pyplot as plt"
   ]
  },
  {
   "cell_type": "code",
   "execution_count": 2,
   "metadata": {},
   "outputs": [],
   "source": [
    "def open_pictures(img_name):\n",
    "    img_rgb = cv2.imread(img_name)\n",
    "    img_gray = cv2.imread(img_name, cv2.IMREAD_GRAYSCALE)\n",
    "    return img_rgb, img_gray"
   ]
  },
  {
   "cell_type": "code",
   "execution_count": 3,
   "metadata": {},
   "outputs": [],
   "source": [
    "def get_mask(img_name):\n",
    "    img = cv2.imread(img_name)\n",
    "    hsv = cv2.cvtColor(img, cv2.COLOR_BGR2HSV)\n",
    "    max_value = 255\n",
    "    max_value_H = 130\n",
    "    low_H = 80\n",
    "    low_S = 0\n",
    "    low_V = 0\n",
    "    high_H = max_value_H\n",
    "    high_S = max_value\n",
    "    high_V = max_value\n",
    "    # применяем фильтр, делаем бинаризацию\n",
    "    mask = cv2.inRange(hsv, (low_H, low_S, low_V), (high_H, high_S, high_V))\n",
    "    return ~mask"
   ]
  },
  {
   "cell_type": "code",
   "execution_count": 4,
   "metadata": {},
   "outputs": [],
   "source": [
    "def preprocessing(img_gray, mask):\n",
    "    blur = cv2.GaussianBlur(img_gray, (11, 11), 0)\n",
    "    canny = cv2.Canny(blur, 0, 40, 5)\n",
    "    \n",
    "    #dilate\n",
    "    dilated = cv2.dilate(canny - mask, (3, 3), iterations=1) \n",
    "    \n",
    "    #close\n",
    "    kernel = cv2.getStructuringElement(cv2.MORPH_RECT, (3, 3))\n",
    "    closed = cv2.morphologyEx(dilated, cv2.MORPH_CLOSE, kernel)\n",
    "    return closed"
   ]
  },
  {
   "cell_type": "code",
   "execution_count": 5,
   "metadata": {},
   "outputs": [],
   "source": [
    "def get_fig_contours(img):\n",
    "    (cnt, hierarchy) = cv2.findContours(img, cv2.RETR_CCOMP, cv2.CHAIN_APPROX_NONE)\n",
    "    im = np.zeros(img.shape)\n",
    "    \n",
    "    #отбираем контуры по площади и периметру \n",
    "    for c in cnt:\n",
    "        peri = cv2.arcLength(c, True)\n",
    "        if (5000 >cv2.contourArea(c)>1100) & (100 < peri < 1000):\n",
    "            cv2.drawContours(im, c, -1, (255, 255, 255), 2)\n",
    "    \n",
    "    im = im.astype('uint8')       \n",
    "    (cnt, hierarchy) = cv2.findContours(im, cv2.RETR_EXTERNAL , cv2.CHAIN_APPROX_NONE)\n",
    "    return cnt"
   ]
  },
  {
   "cell_type": "code",
   "execution_count": 6,
   "metadata": {},
   "outputs": [],
   "source": [
    "def num_cards(img_name):\n",
    "    rgb, gray = open_pictures(img_name)\n",
    "    \n",
    "    preproc = preprocessing(gray, get_mask(img_name))\n",
    "    cnt = get_fig_contours(preproc)\n",
    "    return len(cnt)"
   ]
  },
  {
   "cell_type": "code",
   "execution_count": 7,
   "metadata": {},
   "outputs": [],
   "source": [
    "def draw_figures(cnt, shape):\n",
    "    im = np.zeros(shape)\n",
    "    for c in cnt:\n",
    "        peri = cv2.arcLength(c, True)\n",
    "        approx = cv2.approxPolyDP(c, 0.02 * peri, True)\n",
    "        if 100 < peri < 1000:\n",
    "            cv2.drawContours(im, c, -1, (255, 255, 255))\n",
    "    im = im.astype('uint8')\n",
    "    (cnt, hierarchy) = cv2.findContours(im, cv2.RETR_EXTERNAL , cv2.CHAIN_APPROX_NONE)\n",
    "    cv2.drawContours(im, cnt, -1, (255, 255, 255), thickness=cv2.FILLED)\n",
    "    return im.astype('uint8')"
   ]
  },
  {
   "cell_type": "code",
   "execution_count": 8,
   "metadata": {},
   "outputs": [],
   "source": [
    "def aprox_figures(img):\n",
    "    dilated = cv2.dilate(img, (4, 4), iterations=2)\n",
    "    kernel = np.ones((2, 2),np.uint8)\n",
    "    eros = cv2.erode(dilated, kernel, iterations = 5)\n",
    "    return eros"
   ]
  },
  {
   "cell_type": "code",
   "execution_count": 9,
   "metadata": {},
   "outputs": [],
   "source": [
    "def draw_res(img_rgb, aprox, draw_cont=False):\n",
    "    (cnt, hierarchy) = cv2.findContours(aprox, cv2.RETR_EXTERNAL , cv2.CHAIN_APPROX_NONE)\n",
    "    \n",
    "    for c in cnt:\n",
    "        peri = cv2.arcLength(c, True)\n",
    "        approx = cv2.approxPolyDP(c, 0.02 * peri, True)\n",
    "        if draw_cont & (100 < peri < 1000):\n",
    "            cv2.drawContours(img_rgb, c, -1, (0, 255, 0), 2)\n",
    "            \n",
    "        x, y, w, h = cv2.boundingRect(c)\n",
    "        if 100 < peri < 1000:\n",
    "            if cv2.isContourConvex(approx):\n",
    "                cv2.putText(img_rgb, f'{len(approx)}C', org=(x, y+h//3), \n",
    "                            fontFace=cv2.FONT_HERSHEY_TRIPLEX, fontScale=1, \n",
    "                            color=(0, 0, 255),thickness=2)\n",
    "            else:\n",
    "                cv2.putText(img_rgb, f'{len(approx)}', org=(x, y+h//3), \n",
    "                            fontFace=cv2.FONT_HERSHEY_TRIPLEX, fontScale=1, \n",
    "                            color=(0, 0, 255),thickness=2)\n",
    "    return img_rgb"
   ]
  },
  {
   "cell_type": "code",
   "execution_count": 10,
   "metadata": {},
   "outputs": [],
   "source": [
    "def find_figures(img_name, draw_cont=False):\n",
    "    rgb, gray = open_pictures(img_name)\n",
    "    \n",
    "    preproc = preprocessing(gray, get_mask(img_name))\n",
    "    cnt = get_fig_contours(preproc)\n",
    "    figures = draw_figures(cnt, gray.shape)\n",
    "    pict = aprox_figures(figures)\n",
    "    \n",
    "    res = draw_res(rgb, pict, draw_cont=draw_cont)\n",
    "    return res"
   ]
  },
  {
   "cell_type": "code",
   "execution_count": 29,
   "metadata": {},
   "outputs": [],
   "source": [
    "img_name = \"IMG_1.jpg\""
   ]
  },
  {
   "cell_type": "code",
   "execution_count": 30,
   "metadata": {},
   "outputs": [
    {
     "data": {
      "text/plain": [
       "16"
      ]
     },
     "execution_count": 30,
     "metadata": {},
     "output_type": "execute_result"
    }
   ],
   "source": [
    "num_cards(img_name)"
   ]
  },
  {
   "cell_type": "code",
   "execution_count": 31,
   "metadata": {},
   "outputs": [
    {
     "data": {
      "text/plain": [
       "-1"
      ]
     },
     "execution_count": 31,
     "metadata": {},
     "output_type": "execute_result"
    }
   ],
   "source": [
    "res = find_figures(img_name)\n",
    "cv2.imshow('contours', res)\n",
    "#cv2.imwrite('IMG_4_res.jpg', res)\n",
    "cv2.waitKey()"
   ]
  }
 ],
 "metadata": {
  "kernelspec": {
   "display_name": "Python 3",
   "language": "python",
   "name": "python3"
  },
  "language_info": {
   "codemirror_mode": {
    "name": "ipython",
    "version": 3
   },
   "file_extension": ".py",
   "mimetype": "text/x-python",
   "name": "python",
   "nbconvert_exporter": "python",
   "pygments_lexer": "ipython3",
   "version": "3.8.3"
  }
 },
 "nbformat": 4,
 "nbformat_minor": 4
}
